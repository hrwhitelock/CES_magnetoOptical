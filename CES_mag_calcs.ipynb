{
 "cells": [
  {
   "cell_type": "markdown",
   "id": "9ab3a015-ef56-41b6-b915-879a567474db",
   "metadata": {},
   "source": [
    "# okay so, what is the goal of today? \n",
    "I think the goal is to write a fn to calculate the partition fn at each B val, then write fns to use that partition to calculate magnetization, susceptibility"
   ]
  },
  {
   "cell_type": "code",
   "execution_count": 1,
   "id": "699451b5-cbb2-43d2-bc77-8fb13120136b",
   "metadata": {},
   "outputs": [
    {
     "name": "stdout",
     "output_type": "stream",
     "text": [
      " *******************************************************\n",
      " *                PyCrystalField 2.3.9                 *\n",
      " *  Please cite  J. Appl. Cryst. (2021). 54, 356-362   * \n",
      " *    <https://doi.org/10.1107/S160057672001554X>      *\n",
      " *******************************************************\n",
      "\n"
     ]
    }
   ],
   "source": [
    "import numpy as np\n",
    "import matplotlib.pyplot as plt\n",
    "import PyCrystalField as cef\n",
    "import scipy\n",
    "from scipy.misc import derivative\n",
    "import lmfit\n",
    "import pandas as pd\n",
    "\n",
    "\n"
   ]
  },
  {
   "cell_type": "code",
   "execution_count": 130,
   "id": "fe7da6f1-c825-407a-a566-d935e67ccb06",
   "metadata": {},
   "outputs": [],
   "source": [
    "temperature = 5 # in K\n",
    "\n",
    "muB = 5.7883818012e-2  # meV/T\n",
    "mu0 = np.pi*4e-7       # T*m/A\n",
    "kB  = 8.617e-2         # [meV/K]\n",
    "meVToCm =meVTocCmInv= 8.066 \n",
    "ion = 'Er3+'\n",
    "\n",
    "# # my values from fit\n",
    "B20 = -0.04910422\n",
    "B40 =  -3.6483e-04\n",
    "B43 = -0.01474077\n",
    "B60 =  3.1547e-06\n",
    "B63 =  3.2378e-06\n",
    "B66 =  4.2797e-05\n",
    "\n",
    "# B20 = -0.04241571\n",
    "# B40 =  -3.7243e-04\n",
    "# B43 = -0.01415944\n",
    "# B60 =  3.2072e-06\n",
    "# B63 =  -9.4035e-07\n",
    "# B66 =  3.5789e-05\n",
    "\n",
    "\n",
    "# neutron fit vals\n",
    "# B20 = -3.559e-2\n",
    "# B40 = -3.849e-4\n",
    "# B43 = -1.393e-2\n",
    "# B60 = 3.154e-6\n",
    "# B63 = -4.695e-6\n",
    "# B66 = 3.3815e-5\n",
    "\n",
    "g = cef.LandeGFactor(ion)\n",
    "Bparams =  {'B20': B20, 'B40':B40,'B43': B43, 'B60': B60, 'B63':B63,'B66':B66}\n",
    "ErObj = cef.CFLevels.Bdict(ion,Bparams)\n",
    "ionObj = ErObj\n",
    "\n",
    "kBT = kB*temperature\n",
    "\n",
    "Jperp = -0.2e-3 #meV\n",
    "Jz = -2.5e-3 #meV\n",
    "q= 6\n"
   ]
  },
  {
   "cell_type": "code",
   "execution_count": 3,
   "id": "2bf9f7f4-9588-4268-8a51-6a57ef39483d",
   "metadata": {},
   "outputs": [],
   "source": [
    "def findIdx(array, value):\n",
    "    array = np.asarray(array)\n",
    "    idx = (np.abs(array - value)).argmin()\n",
    "    return idx"
   ]
  },
  {
   "cell_type": "markdown",
   "id": "991ec017-40ea-4236-8aa9-269e543f81a3",
   "metadata": {},
   "source": [
    "# start with XXZ "
   ]
  },
  {
   "cell_type": "code",
   "execution_count": 4,
   "id": "354c20ad-04ec-4798-a893-3ba9a62687e7",
   "metadata": {},
   "outputs": [
    {
     "data": {
      "text/plain": [
       "[5, 6, 6]"
      ]
     },
     "execution_count": 4,
     "metadata": {},
     "output_type": "execute_result"
    }
   ],
   "source": [
    "[a+b for a,b in zip([4,5,6], [1,1,0])]\n"
   ]
  },
  {
   "cell_type": "code",
   "execution_count": 100,
   "id": "8691a597-ace5-4a9c-932a-ffd03b3ca3de",
   "metadata": {},
   "outputs": [],
   "source": [
    "gj = 1.2\n",
    "def zeemanCEF(ionObj, ion, Field, Temp = 2): \n",
    "    JdotB = (muB*(Field[0]*cef.Operator.Jx(ionObj.J) + Field[1]*cef.Operator.Jy(ionObj.J))*1.2 + Field[2]*cef.Operator.Jz(ionObj.J))*1.2\n",
    "    H = np.sum([a*b for a,b in zip(ionObj.O, ionObj.B)], axis=0)\n",
    "    ionObj.diagonalize(H + JdotB.O) # this is just H = Hcef + Hmag\n",
    "    # okay, so now let's add a mean field term??\n",
    "    # fuck\n",
    "    numIter = 10 \n",
    "    for i in range(1, numIter): \n",
    "        # magexpVal = ionObj.magnetization(ion, Temp, Field)\n",
    "        # magexpVal = -1*magexpVal\n",
    "        evals = ionObj.eigenvaluesNoNorm\n",
    "        evecs = ionObj.eigenvectors\n",
    "        JexpVals = np.zeros((len(evals),3))\n",
    "        for i, ev in enumerate(evecs):\n",
    "            kev = cef.Ket(ev)\n",
    "            # print np.real(np.dot(ev,kev.Jy().ket)), np.real(np.dot(ev,np.dot(Jy.O,ev)))\n",
    "            # print np.real(kev*kev.Jy()) - np.real(np.dot(ev,np.dot(Jy.O,ev)))\n",
    "            JexpVals[i] =[np.real(kev*kev.Jx()),\n",
    "                          np.real(kev*kev.Jy()),\n",
    "                          np.real(kev*kev.Jz())]\n",
    "        Zz = np.sum(np.exp(-evals/(kB*Temp)))\n",
    "        JexpVal = np.dot(np.exp(-evals/(kB*Temp)),JexpVals)/Zz\n",
    "        fieldInt = [a*b for a,b in zip([6*Jperp/(muB**2*gj**2)**2, 6*Jperp/(muB**2*gj**2)**2,  6*Jz/(muB**2*gj**2)], JexpVal)]\n",
    "        Beff = [a+b for a,b in zip(Field, fieldInt)] \n",
    "        JdotBeff = (muB*Beff[0]*cef.Operator.Jx(ionObj.J) + Beff[1]*cef.Operator.Jy(ionObj.J))*1.2 + Beff[2]*cef.Operator.Jz(ionObj.J)*1.2\n",
    "        ionObj.diagonalize(H + JdotBeff.O)\n",
    "    return ionObj\n"
   ]
  },
  {
   "cell_type": "code",
   "execution_count": 6,
   "id": "b0fb2078-6250-4f41-b790-aa55e0f0cb0e",
   "metadata": {},
   "outputs": [
    {
     "data": {
      "text/plain": [
       "array([-5.99942641e-16,  0.00000000e+00,  8.99130232e+00])"
      ]
     },
     "execution_count": 6,
     "metadata": {},
     "output_type": "execute_result"
    }
   ],
   "source": [
    "obj = zeemanCEF(ErObj, ion, [0,0,1], Temp = 2)\n",
    "obj.magnetization(ion, 2, [0,0,1])"
   ]
  },
  {
   "cell_type": "code",
   "execution_count": 45,
   "id": "bca566eb-a6e9-483d-91d5-e29625a6af92",
   "metadata": {},
   "outputs": [],
   "source": [
    "def meanField(ionObj, field):\n",
    "    H = np.sum([a*b for a,b in zip(ionObj.O, ionObj.B)], axis=0)\n",
    "    # ionObj.diagonalize(H)\n",
    "           \n",
    "    return ionObj"
   ]
  },
  {
   "cell_type": "code",
   "execution_count": 46,
   "id": "e584e0ae-10cb-40d7-884f-97a40d3ac7ba",
   "metadata": {},
   "outputs": [
    {
     "data": {
      "text/plain": [
       "array([  0.        ,  22.90814665,  51.95164722,  78.98361089,\n",
       "       101.42720129, 120.0600992 , 136.98571603, 154.7451993 ,\n",
       "       175.44375225, 199.66734933, 225.99507   , 251.7906382 ,\n",
       "       274.41120829, 291.73503747, 305.3616175 , 324.40480782])"
      ]
     },
     "execution_count": 46,
     "metadata": {},
     "output_type": "execute_result"
    }
   ],
   "source": [
    "obj = meanField(ErObj, [0,0,1])\n",
    "obj.eigenvalues"
   ]
  },
  {
   "cell_type": "code",
   "execution_count": null,
   "id": "51db9f8d-9e31-47fc-9dbb-aa1b6a106959",
   "metadata": {},
   "outputs": [],
   "source": [
    "field = [[0,0,i] for i in np.linspace(-10,10, 500)]\n",
    "for x in xxz.T: \n",
    "    plt.plot(np.array(field).T[2], x)\n",
    "\n",
    "plt.grid(True)\n",
    "plt.title('IR Lines, with XXZ shift')\n",
    "# plt.xlim(-1,0)\n",
    "# plt.ylim(-25,0)\n"
   ]
  },
  {
   "cell_type": "code",
   "execution_count": 133,
   "id": "778e4e76-c75d-44d8-b30c-9e6bd1a7c3e9",
   "metadata": {},
   "outputs": [],
   "source": [
    "def newfreeEnergy(field=[0,0,0], temperature=1, ionObj = ErObj): \n",
    "    try: \n",
    "        kBT= kB*temperature\n",
    "        ionObj = zeemanCEF(ionObj, ion, field, temperature)\n",
    "        evals = ionObj.eigenvalues#NoNorm#xxzShift(ionObj)\n",
    "        # Emin - min(evals)\n",
    "        # E =[eval-Emin for eval in evals]\n",
    "        Z = [np.exp(-Ei/kBT) for Ei in evals]\n",
    "        Z = sum(Z)\n",
    "        f = -kBT*np.log(Z) \n",
    "    except: \n",
    "        f =[]\n",
    "        for b in field: \n",
    "            kBT= kB*temperature\n",
    "            if temperature ==0: \n",
    "                temperature = 1e-10\n",
    "                kBT= kB*temperature\n",
    "            ionObj = zeemanCEF(ionObj, ion, b, temperature)\n",
    "            evals = ionObj.eigenvalues#NoNorm\n",
    "            E =[eval for eval in evals]\n",
    "            minE = min(E)\n",
    "            # E = [e-minE for e in E]\n",
    "            Z = [np.exp(-Ei/kBT) for Ei in evals]\n",
    "            Z = sum(Z)\n",
    "            f.append(-kBT*np.log(Z))\n",
    "            # f.append(Z)\n",
    "    return f"
   ]
  },
  {
   "cell_type": "code",
   "execution_count": 134,
   "id": "9892ab8e-4ae0-4a2d-90ac-126af2a08390",
   "metadata": {},
   "outputs": [
    {
     "data": {
      "image/png": "[encoded data removed]",
      "text/plain": [
       "<Figure size 640x480 with 1 Axes>"
      ]
     },
     "metadata": {},
     "output_type": "display_data"
    }
   ],
   "source": [
    "f = newfreeEnergy(field, temperature=5)\n",
    "plt.plot(np.array(field).T[2], f)\n",
    "plt.title('free Energy')\n",
    "plt.xlabel('applied field (T)')\n",
    "# plt.ylim(0,10e180)\n",
    "plt.grid(True)\n",
    "# plt.yscale('log')\n",
    "# plt.xlim(-1, 1)\n",
    "# plt.ylim(-14,-11)\n"
   ]
  },
  {
   "cell_type": "markdown",
   "id": "9adb6f14-f6ec-49d0-9d11-5dc8abb8a882",
   "metadata": {},
   "source": [
    "# okay, so now we want to do the same free energy, magnetization, etc., plots with the xxz correction"
   ]
  },
  {
   "cell_type": "code",
   "execution_count": 102,
   "id": "86e53bdb-5693-4798-b42f-1d523257ceec",
   "metadata": {},
   "outputs": [],
   "source": [
    "field = [[0,0,i] for i in np.linspace(-10,10, 1000)]"
   ]
  },
  {
   "cell_type": "code",
   "execution_count": 156,
   "id": "60dd213d-1efd-4fff-9e2e-e17436e7539b",
   "metadata": {},
   "outputs": [],
   "source": [
    "def newnumericalmagnetization(lowfield, highfield, ionObj = ErObj, temperature = 1, numpoints = 3000): \n",
    "    b, dx = np.linspace(lowfield,highfield,numpoints, retstep=True)\n",
    "    field = [[0,0,i] for i in b]\n",
    "    gJ = 1.2\n",
    "    # f = newfreeEnergy(field, temperature)\n",
    "    # m = -np.gradient(f, dx)\n",
    "    # m = np.array([ionObj.magnetization(ion, temperature, f)*-1 for f in field])\n",
    "    m = []\n",
    "    for f in field:\n",
    "        ionObj = zeemanCEF(ionObj, ion, f, temperature)\n",
    "        evals = ionObj.eigenvaluesNoNorm\n",
    "        evecs = ionObj.eigenvectors\n",
    "        JexpVals = np.zeros((len(evals),3))\n",
    "        for i, ev in enumerate(evecs):\n",
    "            kev = cef.Ket(ev)\n",
    "            # print np.real(np.dot(ev,kev.Jy().ket)), np.real(np.dot(ev,np.dot(Jy.O,ev)))\n",
    "            # print np.real(kev*kev.Jy()) - np.real(np.dot(ev,np.dot(Jy.O,ev)))\n",
    "            JexpVals[i] =[np.real(kev*kev.Jx()),\n",
    "                          np.real(kev*kev.Jy()),\n",
    "                          np.real(kev*kev.Jz())]\n",
    "        Zz = np.sum(np.exp(-evals/(kB*temperature)))\n",
    "        JexpVal = np.dot(np.exp(-evals/(kB*temperature)),JexpVals)/Zz\n",
    "        m.append(np.nan_to_num(JexpVal*gJ))\n",
    "    return m,dx, field\n",
    "\n",
    "def newnumericalsusceptibility(fieldVal, temps):\n",
    "    chi = []\n",
    "    for temp in temps: \n",
    "        # f = newfreeEnergy(field, temp)\n",
    "        # m = np.gradient(f, dx)\n",
    "        m, dx, field = newnumericalmagnetization(1-fieldVal,1+fieldVal, temperature = temp, numpoints =100)\n",
    "        m = np.array(m).T\n",
    "        x = np.gradient(m[2], dx) \n",
    "        # now we've gotta access the very low field value\n",
    "        valIdx = findIdx(field, [0,0,fieldVal])\n",
    "        #chi.append(x[valIdx])\n",
    "        chi.append(x[2])\n",
    "    return chi"
   ]
  },
  {
   "cell_type": "code",
   "execution_count": 157,
   "id": "33cc4bdc-ab1e-46a4-8640-6af1264fced3",
   "metadata": {},
   "outputs": [],
   "source": [
    " m,dx, field = newnumericalmagnetization(-10,10, temperature = 2)\n",
    "m= np.array(m).T"
   ]
  },
  {
   "cell_type": "code",
   "execution_count": 155,
   "id": "36b40b90-d005-40b8-9d65-eaba2844b1d8",
   "metadata": {},
   "outputs": [
    {
     "data": {
      "text/plain": [
       "array([[nan, nan, nan],\n",
       "       [nan, nan, nan],\n",
       "       [nan, nan, nan],\n",
       "       ...,\n",
       "       [nan, nan, nan],\n",
       "       [nan, nan, nan],\n",
       "       [nan, nan, nan]])"
      ]
     },
     "execution_count": 155,
     "metadata": {},
     "output_type": "execute_result"
    }
   ],
   "source": [
    "m"
   ]
  },
  {
   "cell_type": "code",
   "execution_count": 120,
   "id": "61c0b79e-27f2-482b-8161-8b15476ca35f",
   "metadata": {},
   "outputs": [],
   "source": [
    "fname  = '/Users/hopeless/Desktop/LeeLab/data/CsErSe2_MTall.dat'\n",
    "data = pd.read_csv(fname, delimiter='\\t')"
   ]
  },
  {
   "cell_type": "code",
   "execution_count": 121,
   "id": "b932a616-85c3-44bc-bbfc-100dc32ecc2f",
   "metadata": {},
   "outputs": [
    {
     "data": {
      "text/html": [
       "<div>\n",
       "<style scoped>\n",
       "    .dataframe tbody tr th:only-of-type {\n",
       "        vertical-align: middle;\n",
       "    }\n",
       "\n",
       "    .dataframe tbody tr th {\n",
       "        vertical-align: top;\n",
       "    }\n",
       "\n",
       "    .dataframe thead th {\n",
       "        text-align: right;\n",
       "    }\n",
       "</style>\n",
       "<table border=\"1\" class=\"dataframe\">\n",
       "  <thead>\n",
       "    <tr style=\"text-align: right;\">\n",
       "      <th></th>\n",
       "      <th>Unnamed: 0</th>\n",
       "      <th>1 T H//ab</th>\n",
       "      <th>Unnamed: 2</th>\n",
       "      <th>Unnamed: 3</th>\n",
       "      <th>Unnamed: 4</th>\n",
       "      <th>5 T H//ab</th>\n",
       "      <th>Unnamed: 6</th>\n",
       "      <th>Unnamed: 7</th>\n",
       "      <th>Unnamed: 8</th>\n",
       "      <th>3 T H//ab</th>\n",
       "      <th>...</th>\n",
       "      <th>Unnamed: 28</th>\n",
       "      <th>5 T H//c</th>\n",
       "      <th>Unnamed: 30</th>\n",
       "      <th>3 T H//c</th>\n",
       "      <th>Unnamed: 32</th>\n",
       "      <th>0.5 T H//c</th>\n",
       "      <th>Unnamed: 34</th>\n",
       "      <th>0.2 T H//c</th>\n",
       "      <th>Unnamed: 36</th>\n",
       "      <th>0.1 T H//c</th>\n",
       "    </tr>\n",
       "  </thead>\n",
       "  <tbody>\n",
       "    <tr>\n",
       "      <th>0</th>\n",
       "      <td>349.983300</td>\n",
       "      <td>0.033338</td>\n",
       "      <td>350.0013</td>\n",
       "      <td>0.0334361530621543</td>\n",
       "      <td>50.00362</td>\n",
       "      <td>0.202160978998095</td>\n",
       "      <td>50.00027</td>\n",
       "      <td>0.201014389131886</td>\n",
       "      <td>1.999505</td>\n",
       "      <td>2.76524671644286</td>\n",
       "      <td>...</td>\n",
       "      <td>NaN</td>\n",
       "      <td>NaN</td>\n",
       "      <td>NaN</td>\n",
       "      <td>NaN</td>\n",
       "      <td>NaN</td>\n",
       "      <td>NaN</td>\n",
       "      <td>NaN</td>\n",
       "      <td>NaN</td>\n",
       "      <td>NaN</td>\n",
       "      <td>NaN</td>\n",
       "    </tr>\n",
       "    <tr>\n",
       "      <th>1</th>\n",
       "      <td>349.983300</td>\n",
       "      <td>0.033319</td>\n",
       "      <td>349.9714</td>\n",
       "      <td>0.0334515970538686</td>\n",
       "      <td>49.99248</td>\n",
       "      <td>0.201957240463333</td>\n",
       "      <td>49.99916</td>\n",
       "      <td>0.200945388518057</td>\n",
       "      <td>1.999642</td>\n",
       "      <td>2.76451639886857</td>\n",
       "      <td>...</td>\n",
       "      <td>NaN</td>\n",
       "      <td>NaN</td>\n",
       "      <td>NaN</td>\n",
       "      <td>NaN</td>\n",
       "      <td>NaN</td>\n",
       "      <td>NaN</td>\n",
       "      <td>NaN</td>\n",
       "      <td>NaN</td>\n",
       "      <td>NaN</td>\n",
       "      <td>NaN</td>\n",
       "    </tr>\n",
       "    <tr>\n",
       "      <th>2</th>\n",
       "      <td>349.983300</td>\n",
       "      <td>0.033328</td>\n",
       "      <td>348.9132</td>\n",
       "      <td>0.0335348794335943</td>\n",
       "      <td>49.58734</td>\n",
       "      <td>0.203569697903333</td>\n",
       "      <td>49.58627</td>\n",
       "      <td>0.202635170621657</td>\n",
       "      <td>2.442433</td>\n",
       "      <td>2.43102564761714</td>\n",
       "      <td>...</td>\n",
       "      <td>NaN</td>\n",
       "      <td>NaN</td>\n",
       "      <td>NaN</td>\n",
       "      <td>NaN</td>\n",
       "      <td>NaN</td>\n",
       "      <td>NaN</td>\n",
       "      <td>NaN</td>\n",
       "      <td>NaN</td>\n",
       "      <td>NaN</td>\n",
       "      <td>NaN</td>\n",
       "    </tr>\n",
       "    <tr>\n",
       "      <th>3</th>\n",
       "      <td>349.977400</td>\n",
       "      <td>0.033310</td>\n",
       "      <td>348.7474</td>\n",
       "      <td>0.0335508731267086</td>\n",
       "      <td>49.31949</td>\n",
       "      <td>0.204611338429238</td>\n",
       "      <td>49.32603</td>\n",
       "      <td>0.203760644973771</td>\n",
       "      <td>2.665923</td>\n",
       "      <td>2.28749075920000</td>\n",
       "      <td>...</td>\n",
       "      <td>NaN</td>\n",
       "      <td>NaN</td>\n",
       "      <td>NaN</td>\n",
       "      <td>NaN</td>\n",
       "      <td>NaN</td>\n",
       "      <td>NaN</td>\n",
       "      <td>NaN</td>\n",
       "      <td>NaN</td>\n",
       "      <td>NaN</td>\n",
       "      <td>NaN</td>\n",
       "    </tr>\n",
       "    <tr>\n",
       "      <th>4</th>\n",
       "      <td>349.977400</td>\n",
       "      <td>0.033310</td>\n",
       "      <td>347.8738</td>\n",
       "      <td>0.0336637660885143</td>\n",
       "      <td>49.03831</td>\n",
       "      <td>0.205797733657143</td>\n",
       "      <td>49.03188</td>\n",
       "      <td>0.204894181613086</td>\n",
       "      <td>2.877166</td>\n",
       "      <td>2.18227529361429</td>\n",
       "      <td>...</td>\n",
       "      <td>NaN</td>\n",
       "      <td>NaN</td>\n",
       "      <td>NaN</td>\n",
       "      <td>NaN</td>\n",
       "      <td>NaN</td>\n",
       "      <td>NaN</td>\n",
       "      <td>NaN</td>\n",
       "      <td>NaN</td>\n",
       "      <td>NaN</td>\n",
       "      <td>NaN</td>\n",
       "    </tr>\n",
       "    <tr>\n",
       "      <th>...</th>\n",
       "      <td>...</td>\n",
       "      <td>...</td>\n",
       "      <td>...</td>\n",
       "      <td>...</td>\n",
       "      <td>...</td>\n",
       "      <td>...</td>\n",
       "      <td>...</td>\n",
       "      <td>...</td>\n",
       "      <td>...</td>\n",
       "      <td>...</td>\n",
       "      <td>...</td>\n",
       "      <td>...</td>\n",
       "      <td>...</td>\n",
       "      <td>...</td>\n",
       "      <td>...</td>\n",
       "      <td>...</td>\n",
       "      <td>...</td>\n",
       "      <td>...</td>\n",
       "      <td>...</td>\n",
       "      <td>...</td>\n",
       "      <td>...</td>\n",
       "    </tr>\n",
       "    <tr>\n",
       "      <th>815</th>\n",
       "      <td>2.433234</td>\n",
       "      <td>2.047201</td>\n",
       "      <td>--</td>\n",
       "      <td>--</td>\n",
       "      <td>--</td>\n",
       "      <td>--</td>\n",
       "      <td>--</td>\n",
       "      <td>--</td>\n",
       "      <td>--</td>\n",
       "      <td>--</td>\n",
       "      <td>...</td>\n",
       "      <td>NaN</td>\n",
       "      <td>NaN</td>\n",
       "      <td>NaN</td>\n",
       "      <td>NaN</td>\n",
       "      <td>NaN</td>\n",
       "      <td>NaN</td>\n",
       "      <td>NaN</td>\n",
       "      <td>NaN</td>\n",
       "      <td>NaN</td>\n",
       "      <td>NaN</td>\n",
       "    </tr>\n",
       "    <tr>\n",
       "      <th>816</th>\n",
       "      <td>1.999695</td>\n",
       "      <td>2.216667</td>\n",
       "      <td>--</td>\n",
       "      <td>--</td>\n",
       "      <td>--</td>\n",
       "      <td>--</td>\n",
       "      <td>--</td>\n",
       "      <td>--</td>\n",
       "      <td>--</td>\n",
       "      <td>--</td>\n",
       "      <td>...</td>\n",
       "      <td>NaN</td>\n",
       "      <td>NaN</td>\n",
       "      <td>NaN</td>\n",
       "      <td>NaN</td>\n",
       "      <td>NaN</td>\n",
       "      <td>NaN</td>\n",
       "      <td>NaN</td>\n",
       "      <td>NaN</td>\n",
       "      <td>NaN</td>\n",
       "      <td>NaN</td>\n",
       "    </tr>\n",
       "    <tr>\n",
       "      <th>817</th>\n",
       "      <td>1.999694</td>\n",
       "      <td>2.215822</td>\n",
       "      <td>--</td>\n",
       "      <td>--</td>\n",
       "      <td>--</td>\n",
       "      <td>--</td>\n",
       "      <td>--</td>\n",
       "      <td>--</td>\n",
       "      <td>--</td>\n",
       "      <td>--</td>\n",
       "      <td>...</td>\n",
       "      <td>NaN</td>\n",
       "      <td>NaN</td>\n",
       "      <td>NaN</td>\n",
       "      <td>NaN</td>\n",
       "      <td>NaN</td>\n",
       "      <td>NaN</td>\n",
       "      <td>NaN</td>\n",
       "      <td>NaN</td>\n",
       "      <td>NaN</td>\n",
       "      <td>NaN</td>\n",
       "    </tr>\n",
       "    <tr>\n",
       "      <th>818</th>\n",
       "      <td>1.998607</td>\n",
       "      <td>2.228159</td>\n",
       "      <td>--</td>\n",
       "      <td>--</td>\n",
       "      <td>--</td>\n",
       "      <td>--</td>\n",
       "      <td>--</td>\n",
       "      <td>--</td>\n",
       "      <td>--</td>\n",
       "      <td>--</td>\n",
       "      <td>...</td>\n",
       "      <td>NaN</td>\n",
       "      <td>NaN</td>\n",
       "      <td>NaN</td>\n",
       "      <td>NaN</td>\n",
       "      <td>NaN</td>\n",
       "      <td>NaN</td>\n",
       "      <td>NaN</td>\n",
       "      <td>NaN</td>\n",
       "      <td>NaN</td>\n",
       "      <td>NaN</td>\n",
       "    </tr>\n",
       "    <tr>\n",
       "      <th>819</th>\n",
       "      <td>1.998607</td>\n",
       "      <td>2.227376</td>\n",
       "      <td>--</td>\n",
       "      <td>--</td>\n",
       "      <td>--</td>\n",
       "      <td>--</td>\n",
       "      <td>--</td>\n",
       "      <td>--</td>\n",
       "      <td>--</td>\n",
       "      <td>--</td>\n",
       "      <td>...</td>\n",
       "      <td>NaN</td>\n",
       "      <td>NaN</td>\n",
       "      <td>NaN</td>\n",
       "      <td>NaN</td>\n",
       "      <td>NaN</td>\n",
       "      <td>NaN</td>\n",
       "      <td>NaN</td>\n",
       "      <td>NaN</td>\n",
       "      <td>NaN</td>\n",
       "      <td>NaN</td>\n",
       "    </tr>\n",
       "  </tbody>\n",
       "</table>\n",
       "<p>820 rows × 38 columns</p>\n",
       "</div>"
      ],
      "text/plain": [
       "     Unnamed: 0  1 T H//ab Unnamed: 2          Unnamed: 3 Unnamed: 4  \\\n",
       "0    349.983300   0.033338   350.0013  0.0334361530621543   50.00362   \n",
       "1    349.983300   0.033319   349.9714  0.0334515970538686   49.99248   \n",
       "2    349.983300   0.033328   348.9132  0.0335348794335943   49.58734   \n",
       "3    349.977400   0.033310   348.7474  0.0335508731267086   49.31949   \n",
       "4    349.977400   0.033310   347.8738  0.0336637660885143   49.03831   \n",
       "..          ...        ...        ...                 ...        ...   \n",
       "815    2.433234   2.047201         --                  --         --   \n",
       "816    1.999695   2.216667         --                  --         --   \n",
       "817    1.999694   2.215822         --                  --         --   \n",
       "818    1.998607   2.228159         --                  --         --   \n",
       "819    1.998607   2.227376         --                  --         --   \n",
       "\n",
       "             5 T H//ab Unnamed: 6         Unnamed: 7 Unnamed: 8  \\\n",
       "0    0.202160978998095   50.00027  0.201014389131886   1.999505   \n",
       "1    0.201957240463333   49.99916  0.200945388518057   1.999642   \n",
       "2    0.203569697903333   49.58627  0.202635170621657   2.442433   \n",
       "3    0.204611338429238   49.32603  0.203760644973771   2.665923   \n",
       "4    0.205797733657143   49.03188  0.204894181613086   2.877166   \n",
       "..                 ...        ...                ...        ...   \n",
       "815                 --         --                 --         --   \n",
       "816                 --         --                 --         --   \n",
       "817                 --         --                 --         --   \n",
       "818                 --         --                 --         --   \n",
       "819                 --         --                 --         --   \n",
       "\n",
       "            3 T H//ab  ... Unnamed: 28 5 T H//c Unnamed: 30 3 T H//c  \\\n",
       "0    2.76524671644286  ...         NaN      NaN         NaN      NaN   \n",
       "1    2.76451639886857  ...         NaN      NaN         NaN      NaN   \n",
       "2    2.43102564761714  ...         NaN      NaN         NaN      NaN   \n",
       "3    2.28749075920000  ...         NaN      NaN         NaN      NaN   \n",
       "4    2.18227529361429  ...         NaN      NaN         NaN      NaN   \n",
       "..                ...  ...         ...      ...         ...      ...   \n",
       "815                --  ...         NaN      NaN         NaN      NaN   \n",
       "816                --  ...         NaN      NaN         NaN      NaN   \n",
       "817                --  ...         NaN      NaN         NaN      NaN   \n",
       "818                --  ...         NaN      NaN         NaN      NaN   \n",
       "819                --  ...         NaN      NaN         NaN      NaN   \n",
       "\n",
       "    Unnamed: 32 0.5 T H//c Unnamed: 34 0.2 T H//c Unnamed: 36 0.1 T H//c  \n",
       "0           NaN        NaN         NaN        NaN         NaN        NaN  \n",
       "1           NaN        NaN         NaN        NaN         NaN        NaN  \n",
       "2           NaN        NaN         NaN        NaN         NaN        NaN  \n",
       "3           NaN        NaN         NaN        NaN         NaN        NaN  \n",
       "4           NaN        NaN         NaN        NaN         NaN        NaN  \n",
       "..          ...        ...         ...        ...         ...        ...  \n",
       "815         NaN        NaN         NaN        NaN         NaN        NaN  \n",
       "816         NaN        NaN         NaN        NaN         NaN        NaN  \n",
       "817         NaN        NaN         NaN        NaN         NaN        NaN  \n",
       "818         NaN        NaN         NaN        NaN         NaN        NaN  \n",
       "819         NaN        NaN         NaN        NaN         NaN        NaN  \n",
       "\n",
       "[820 rows x 38 columns]"
      ]
     },
     "execution_count": 121,
     "metadata": {},
     "output_type": "execute_result"
    }
   ],
   "source": [
    "data"
   ]
  },
  {
   "cell_type": "code",
   "execution_count": 127,
   "id": "c71eac74-ddf2-4eab-a23b-ab5c216af20e",
   "metadata": {},
   "outputs": [],
   "source": [
    "# m= np.array(m).T\n",
    "# m[2]\n",
    "# np.savetxt('magnetization.txt', m)\n",
    "# field = np.array(field).T[2]\n",
    "magPCF = np.array([ErObj.magnetization(ion, 2, f)*-1 for f in field]).T[2]"
   ]
  },
  {
   "cell_type": "code",
   "execution_count": 159,
   "id": "d19d3a3b-4439-45c4-96aa-2a4ef2a9c5e5",
   "metadata": {},
   "outputs": [
    {
     "data": {
      "text/plain": [
       "Text(0, 0.5, 'magnetization (uB/Er)')"
      ]
     },
     "execution_count": 159,
     "metadata": {},
     "output_type": "execute_result"
    },
    {
     "data": {
      "image/png": "[encoded data removed]",
      "text/plain": [
       "<Figure size 640x480 with 1 Axes>"
      ]
     },
     "metadata": {},
     "output_type": "display_data"
    }
   ],
   "source": [
    "# m= np.array(m).T\n",
    "# plt.plot(np.linspace(-10,10,len(m[2])), m[2], label = 'MFT')\n",
    "plt.plot(np.linspace(-10,10, len(magPCF)), magPCF, label = 'pcf')\n",
    "# plt.plot(m)\n",
    "plt.grid(True)\n",
    "# plt.ylim(-.6,0.6)\n",
    "# plt.xlim(-2.5,2.5)\n",
    "# plt.legend()\n",
    "plt.title('CsErSe2 calculated magnetization @2K')\n",
    "plt.xlabel('applied field (T)')\n",
    "plt.ylabel('magnetization (uB/Er)')"
   ]
  },
  {
   "cell_type": "code",
   "execution_count": 116,
   "id": "30c4153a-2eb7-470f-b8a6-2ddfe05ff68e",
   "metadata": {},
   "outputs": [],
   "source": [
    "temps = np.linspace(10,300,100)\n",
    "chi = newnumericalsusceptibility(1, temps)"
   ]
  },
  {
   "cell_type": "code",
   "execution_count": 117,
   "id": "e469a6a0-2be2-45f1-94ea-30b5951d8efa",
   "metadata": {},
   "outputs": [
    {
     "data": {
      "text/plain": [
       "Text(0.5, 0, 'Temperature (K)')"
      ]
     },
     "execution_count": 117,
     "metadata": {},
     "output_type": "execute_result"
    },
    {
     "data": {
      "image/png": "[encoded data removed]",
      "text/plain": [
       "<Figure size 640x480 with 1 Axes>"
      ]
     },
     "metadata": {},
     "output_type": "display_data"
    }
   ],
   "source": [
    "chiinv = [1/x for x in chi]\n",
    "plt.plot(temps, chiinv)\n",
    "# plt.plot(temps, 1/temps)\n",
    "plt.grid(True)\n",
    "plt.title('CsErSe2 calculated susceptibility')\n",
    "plt.ylabel('1/chi ')\n",
    "plt.xlabel('Temperature (K)')\n",
    "# plt.xlim(100,300)"
   ]
  },
  {
   "cell_type": "markdown",
   "id": "4159b068-8433-4e1d-8968-dc1a6155ecd2",
   "metadata": {},
   "source": [
    "# QFI 4 fun"
   ]
  },
  {
   "cell_type": "code",
   "execution_count": null,
   "id": "f5ebaae5-4410-491f-ba1a-3428adb0d69d",
   "metadata": {},
   "outputs": [],
   "source": [
    "def rho(evecs, evals): \n",
    "    # evals = ionObj.eigenvaluesNoNorm\n",
    "    # evecs = ionObj.eigenvectors\n",
    "    p = np.dot(evals[0], np.outer(evecs[0], evecs[0]))\n",
    "    for i in range(1, len(evals)): \n",
    "        p+=np.dot(evals[i], np.outer(evecs[i], evecs[i]))\n",
    "    return p\n",
    "\n",
    "    "
   ]
  },
  {
   "cell_type": "code",
   "execution_count": null,
   "id": "fff89334-d8b7-4ac2-8709-a5b082f10e31",
   "metadata": {},
   "outputs": [],
   "source": [
    "def f(o, do): \n",
    "    ionObj = zeemanCEF(ErObj, ion, [0,0,o])\n",
    "    evals = xxzShift(ionObj)\n",
    "    dionObj = zeemanCEF(ErObj, ion, [0,0,o+do])\n",
    "    devals = xxzShift(ionObj)\n",
    "    M = np.sqrt(rho(ionObj.eigenvectors, evals)) +rho(dionObj.eigenvectors, devals) +np.sqrt(rho(ionObj.eigenvectors, evals)) \n",
    "    f = np.trace(M)\n",
    "    return np.real(f)"
   ]
  },
  {
   "cell_type": "code",
   "execution_count": null,
   "id": "68e79bb9-f1bd-409b-b555-7b59fc7ea9fe",
   "metadata": {},
   "outputs": [],
   "source": [
    "def Z(evals, temp): \n",
    "    kBT = kB*temp\n",
    "    E =[eval for eval in evals]\n",
    "    Z = [np.exp(-Ei/kBT) for Ei in E]\n",
    "    return np.nansum(Z)\n",
    "    if kBT == 0: \n",
    "        Z = 1\n",
    "    return Z\n",
    "\n",
    "\n",
    "def F(o,do, temp): \n",
    "    # do = 1e-6\n",
    "    ionObj = zeemanCEF(ErObj, ion, [0,0,o])\n",
    "    evals = ionObj.eigenvaluesNoNorm\n",
    "    dionObj = zeemanCEF(ErObj, ion, [0,0,o+do])\n",
    "    devals = dionObj.eigenvaluesNoNorm\n",
    "    z = Z(evals, temp)\n",
    "    dz = Z(devals, temp)\n",
    "    # this needs to be rewritten lol\n",
    "    kBT = kB*temp\n",
    "    top = 0\n",
    "    for e in evals: \n",
    "        for de in devals: \n",
    "            t = (-e-de)/(2*kBT)\n",
    "            t = np.exp(t)\n",
    "            top = top+t\n",
    "    # F = np.sqrt((np.sqrt(z)*np.sqrt(dz))/(z*np.sqrt(dz)))\n",
    "    F = np.real(np.sqrt(top/(z*np.sqrt(dz))))\n",
    "    return F\n"
   ]
  },
  {
   "cell_type": "code",
   "execution_count": null,
   "id": "7525986d-214a-408d-97f2-a3f17b8ce5b9",
   "metadata": {},
   "outputs": [],
   "source": [
    "# def F(o, do, beta): \n",
    "    \n",
    "#     return f(o, do)"
   ]
  },
  {
   "cell_type": "code",
   "execution_count": null,
   "id": "e9afac84-27f3-48b3-ab29-ecf8074e4412",
   "metadata": {},
   "outputs": [],
   "source": [
    "def fischerSus(targetField, temps): \n",
    "    b = targetField\n",
    "    sus = []\n",
    "    for t in temps: \n",
    "        # do first derivative\n",
    "        # taking derivative wrt depsilon\n",
    "        h = 1e-3\n",
    "        do =1e-3\n",
    "        dd02 = (2*np.log(F(targetField, do, t))-np.log(F(targetField, do-h, t))-np.log(F(targetField, do+h, t)))/(h**2)\n",
    "        # dd02 = (F(targetField, do-h, t)-F(targetField, do+h, t))/h\n",
    "        sus.append(dd02)\n",
    "    return sus"
   ]
  },
  {
   "cell_type": "code",
   "execution_count": null,
   "id": "7a62398b-ac9b-4225-b083-41ed8925ad70",
   "metadata": {},
   "outputs": [],
   "source": [
    "# t = 1\n",
    "# h = 1e-3\n",
    "# do =1e-3\n",
    "# targetField = 10\n",
    "# dd02 = (2*F(targetField, do, t)-F(targetField, do-h, t)-F(targetField, do+h, t))/(h**2)\n",
    "# d = (-F(targetField, do-h, t))#-F(targetField, do+h, t))\n",
    "# print(dd02)\n",
    "# print(d)\n",
    "temps = np.linspace(1,200,100)\n",
    "sus = fischerSus(.001, temps)\n",
    "# f = [F(1,.1, t)for t in temps]\n",
    "# f2 = [F(1,.001, t)for t in temps]\n",
    "# plt.plot(temps, f)\n",
    "# plt.plot(temps, f2)"
   ]
  },
  {
   "cell_type": "code",
   "execution_count": null,
   "id": "eb1c13ec-d9ff-486d-84f0-891ffa0ef063",
   "metadata": {},
   "outputs": [],
   "source": [
    "susinv = [1/s for s in sus]\n",
    "plt.plot(temps, susinv)\n",
    "# plt.yscale('log')"
   ]
  },
  {
   "cell_type": "markdown",
   "id": "b6442999-0854-42b1-8232-a90b3e6ed7f5",
   "metadata": {},
   "source": [
    "# PCF"
   ]
  },
  {
   "cell_type": "code",
   "execution_count": 50,
   "id": "b3d30a62-84f8-4727-8154-4f50413d3e6c",
   "metadata": {},
   "outputs": [
    {
     "data": {
      "text/plain": [
       "Text(0, 0.5, 'mag')"
      ]
     },
     "execution_count": 50,
     "metadata": {},
     "output_type": "execute_result"
    },
    {
     "data": {
      "image/png": "[encoded data removed]",
      "text/plain": [
       "<Figure size 640x480 with 1 Axes>"
      ]
     },
     "metadata": {},
     "output_type": "display_data"
    }
   ],
   "source": [
    "\n",
    "g = cef.LandeGFactor(ion)\n",
    "Bparams =  {'B20': B20, 'B40':B40,'B43': B43, 'B60': B60, 'B63':B63,'B66':B66}\n",
    "ErObj = cef.CFLevels.Bdict(ion,Bparams)\n",
    "\n",
    "field = [[0,0,b] for b in np.linspace(-10,10,200)]\n",
    "mag = np.array([ionObj.magnetization(ion, 2, f) for f in field])\n",
    "field = np.array(field).T\n",
    "\n",
    "plt.plot(field[2], mag.T[2])\n",
    "plt.title('magnetization')\n",
    "plt.xlabel('applied field')\n",
    "plt.ylabel('mag')\n"
   ]
  },
  {
   "cell_type": "code",
   "execution_count": null,
   "id": "e8e1905b-baef-4f20-951c-1d173e32daf0",
   "metadata": {},
   "outputs": [],
   "source": []
  },
  {
   "cell_type": "code",
   "execution_count": 51,
   "id": "a636f686-9c84-437c-9511-d95483e9259c",
   "metadata": {},
   "outputs": [
    {
     "data": {
      "text/plain": [
       "Text(0, 0.5, '1/chi')"
      ]
     },
     "execution_count": 51,
     "metadata": {},
     "output_type": "execute_result"
    },
    {
     "data": {
      "image/png": "[encoded data removed]",
      "text/plain": [
       "<Figure size 640x480 with 1 Axes>"
      ]
     },
     "metadata": {},
     "output_type": "display_data"
    }
   ],
   "source": [
    "temps = np.linspace(0,300,300)\n",
    "field = .1\n",
    "df = 0.001\n",
    "sus = ErObj.susceptibility(ion, temps, field, df)\n",
    "susinv = [1/x for x in sus]\n",
    "plt.plot(temps, susinv)\n",
    "plt.title('inverse susceptibility')\n",
    "plt.xlabel('Temperature')\n",
    "plt.ylabel('1/chi')"
   ]
  },
  {
   "cell_type": "code",
   "execution_count": null,
   "id": "4668c23a-f677-4161-9603-e50a257abf08",
   "metadata": {},
   "outputs": [],
   "source": []
  },
  {
   "cell_type": "code",
   "execution_count": null,
   "id": "aa04ecc3-a903-4cd6-88c0-ed5083d6194a",
   "metadata": {},
   "outputs": [],
   "source": []
  }
 ],
 "metadata": {
  "kernelspec": {
   "display_name": "Python 3 (ipykernel)",
   "language": "python",
   "name": "python3"
  },
  "language_info": {
   "codemirror_mode": {
    "name": "ipython",
    "version": 3
   },
   "file_extension": ".py",
   "mimetype": "text/x-python",
   "name": "python",
   "nbconvert_exporter": "python",
   "pygments_lexer": "ipython3",
   "version": "3.9.19"
  }
 },
 "nbformat": 4,
 "nbformat_minor": 5
}
